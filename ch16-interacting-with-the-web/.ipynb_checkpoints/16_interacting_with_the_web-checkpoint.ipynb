{
 "cells": [
  {
   "cell_type": "code",
   "execution_count": 1,
   "id": "868550af",
   "metadata": {},
   "outputs": [],
   "source": [
    "# HyperText Markup Language（HTML）"
   ]
  },
  {
   "cell_type": "code",
   "execution_count": 2,
   "id": "01dded5e",
   "metadata": {},
   "outputs": [
    {
     "name": "stdout",
     "output_type": "stream",
     "text": [
      "<html>\n",
      "<head>\n",
      "<title>Profile: Aphrodite</title>\n",
      "</head>\n",
      "<body bgcolor=\"yellow\">\n",
      "<center>\n",
      "<br><br>\n",
      "<img src=\"/static/aphrodite.gif\" />\n",
      "<h2>Name: Aphrodite</h2>\n",
      "<br><br>\n",
      "Favorite animal: Dove\n",
      "<br><br>\n",
      "Favorite color: Red\n",
      "<br><br>\n",
      "Hometown: Mount Olympus\n",
      "</center>\n",
      "</body>\n",
      "</html>\n",
      "\n"
     ]
    }
   ],
   "source": [
    "from urllib.request import urlopen\n",
    "url =  \"http://olympus.realpython.org/profiles/aphrodite\"\n",
    "html_page = urlopen(url)\n",
    "html_text = html_page.read().decode(\"utf-8\")\n",
    "print(html_text)"
   ]
  },
  {
   "cell_type": "code",
   "execution_count": 4,
   "id": "d2e01ed9",
   "metadata": {},
   "outputs": [
    {
     "name": "stdout",
     "output_type": "stream",
     "text": [
      "Profile: Aphrodite\n"
     ]
    }
   ],
   "source": [
    "start_tag = \"<title>\"\n",
    "end_tag = \"</title>\"\n",
    "start_index = html_text.find(start_tag) + len(start_tag)\n",
    "end_index = html_text.find(end_tag)\n",
    "\n",
    "print(html_text[start_index:end_index])"
   ]
  },
  {
   "cell_type": "code",
   "execution_count": 5,
   "id": "5639313d",
   "metadata": {},
   "outputs": [],
   "source": [
    "# Regular expression"
   ]
  },
  {
   "cell_type": "code",
   "execution_count": 6,
   "id": "74b44600",
   "metadata": {},
   "outputs": [
    {
     "data": {
      "text/plain": [
       "['ac']"
      ]
     },
     "execution_count": 6,
     "metadata": {},
     "output_type": "execute_result"
    }
   ],
   "source": [
    "import re\n",
    "re.findall(\"ab*c\",\"ac\")"
   ]
  },
  {
   "cell_type": "code",
   "execution_count": 8,
   "id": "ccb819b7",
   "metadata": {},
   "outputs": [
    {
     "data": {
      "text/plain": [
       "['ABC']"
      ]
     },
     "execution_count": 8,
     "metadata": {},
     "output_type": "execute_result"
    }
   ],
   "source": [
    "re.findall(\"ab*c\",\"ABC\",re.IGNORECASE) # For instance, the asterisk character, *, stands for “zero or more” of\n",
    "# whatever came just before the asterisk"
   ]
  },
  {
   "cell_type": "code",
   "execution_count": 9,
   "id": "e7a5a1d7",
   "metadata": {},
   "outputs": [
    {
     "data": {
      "text/plain": [
       "['abc']"
      ]
     },
     "execution_count": 9,
     "metadata": {},
     "output_type": "execute_result"
    }
   ],
   "source": [
    "re.findall(\"a.c\",\"abc\") # You can use a period . to stand for \n",
    "#any single character in a regular expression."
   ]
  },
  {
   "cell_type": "code",
   "execution_count": 10,
   "id": "4c8dbd40",
   "metadata": {},
   "outputs": [
    {
     "data": {
      "text/plain": [
       "['abhsbdkbc']"
      ]
     },
     "execution_count": 10,
     "metadata": {},
     "output_type": "execute_result"
    }
   ],
   "source": [
    "re.findall(\"a.*c\",\"abhsbdkbc\")# Putting the term .* inside of a regular expression \n",
    "#stands for any character repeated any number of times"
   ]
  },
  {
   "cell_type": "code",
   "execution_count": 12,
   "id": "6d9dd28a",
   "metadata": {},
   "outputs": [
    {
     "data": {
      "text/plain": [
       "'Everything is ELEPHANS.'"
      ]
     },
     "execution_count": 12,
     "metadata": {},
     "output_type": "execute_result"
    }
   ],
   "source": [
    "string = \"Everything is <replaced> if it's in <tags>.\"\n",
    "string = re.sub(\"<.*>\",\"ELEPHANS\",string) #  The re.sub() function, which is short for “substitute,”\n",
    "string # This is because Python’s regular expressions are greedy,\n",
    "# meaning that they try to find the longest possible match when characters like * are used"
   ]
  },
  {
   "cell_type": "code",
   "execution_count": 14,
   "id": "9940856d",
   "metadata": {},
   "outputs": [
    {
     "data": {
      "text/plain": [
       "\"Everything is ELEPHANS if it's in ELEPHANS.\""
      ]
     },
     "execution_count": 14,
     "metadata": {},
     "output_type": "execute_result"
    }
   ],
   "source": [
    "string = \"Everything is <replaced> if it's in <tags>.\"\n",
    "string = re.sub(\"<.*?>\",\"ELEPHANS\",string) # Alternatively, you can use the non-greedy matching pattern *?, which\n",
    "# works the same way as * except that it matches the shortest possible string of text:\n",
    "string"
   ]
  },
  {
   "cell_type": "code",
   "execution_count": 16,
   "id": "71947338",
   "metadata": {},
   "outputs": [
    {
     "name": "stdout",
     "output_type": "stream",
     "text": [
      "Profile: Dionysus\n"
     ]
    }
   ],
   "source": [
    "import re\n",
    "from urllib.request import urlopen\n",
    "\n",
    "url = \"http://olympus.realpython.org/profiles/dionysus\"\n",
    "page = urlopen(url)\n",
    "html = page.read().decode(\"utf-8\")\n",
    "\n",
    "pattern = \"<title.*?>.*?</title.*?>\"\n",
    "match_results = re.search(pattern,html,re.IGNORECASE)\n",
    "title = match_results.group()\n",
    "title = re.sub(\"<.*?>\",\"\",title)\n",
    "print(title)"
   ]
  },
  {
   "cell_type": "code",
   "execution_count": null,
   "id": "07092090",
   "metadata": {},
   "outputs": [],
   "source": []
  }
 ],
 "metadata": {
  "kernelspec": {
   "display_name": "Python 3 (ipykernel)",
   "language": "python",
   "name": "python3"
  },
  "language_info": {
   "codemirror_mode": {
    "name": "ipython",
    "version": 3
   },
   "file_extension": ".py",
   "mimetype": "text/x-python",
   "name": "python",
   "nbconvert_exporter": "python",
   "pygments_lexer": "ipython3",
   "version": "3.9.7"
  }
 },
 "nbformat": 4,
 "nbformat_minor": 5
}
