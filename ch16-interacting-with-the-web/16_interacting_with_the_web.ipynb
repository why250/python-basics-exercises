{
 "cells": [
  {
   "cell_type": "code",
   "execution_count": 1,
   "id": "488caa5f",
   "metadata": {},
   "outputs": [],
   "source": [
    "# HyperText Markup Language（HTML）"
   ]
  },
  {
   "cell_type": "code",
   "execution_count": 2,
   "id": "044d5aa8",
   "metadata": {},
   "outputs": [
    {
     "name": "stdout",
     "output_type": "stream",
     "text": [
      "<html>\n",
      "<head>\n",
      "<title>Profile: Aphrodite</title>\n",
      "</head>\n",
      "<body bgcolor=\"yellow\">\n",
      "<center>\n",
      "<br><br>\n",
      "<img src=\"/static/aphrodite.gif\" />\n",
      "<h2>Name: Aphrodite</h2>\n",
      "<br><br>\n",
      "Favorite animal: Dove\n",
      "<br><br>\n",
      "Favorite color: Red\n",
      "<br><br>\n",
      "Hometown: Mount Olympus\n",
      "</center>\n",
      "</body>\n",
      "</html>\n",
      "\n"
     ]
    }
   ],
   "source": [
    "from urllib.request import urlopen\n",
    "url =  \"http://olympus.realpython.org/profiles/aphrodite\"\n",
    "html_page = urlopen(url)\n",
    "html_text = html_page.read().decode(\"utf-8\")\n",
    "print(html_text)"
   ]
  },
  {
   "cell_type": "code",
   "execution_count": 4,
   "id": "80525f06",
   "metadata": {},
   "outputs": [
    {
     "name": "stdout",
     "output_type": "stream",
     "text": [
      "Profile: Aphrodite\n"
     ]
    }
   ],
   "source": [
    "start_tag = \"<title>\"\n",
    "end_tag = \"</title>\"\n",
    "start_index = html_text.find(start_tag) + len(start_tag)\n",
    "end_index = html_text.find(end_tag)\n",
    "\n",
    "print(html_text[start_index:end_index])"
   ]
  },
  {
   "cell_type": "code",
   "execution_count": 5,
   "id": "49b9de33",
   "metadata": {},
   "outputs": [],
   "source": [
    "# Regular expression 正则表达式"
   ]
  },
  {
   "cell_type": "code",
   "execution_count": 6,
   "id": "06a8e3cf",
   "metadata": {},
   "outputs": [
    {
     "data": {
      "text/plain": [
       "['ac']"
      ]
     },
     "execution_count": 6,
     "metadata": {},
     "output_type": "execute_result"
    }
   ],
   "source": [
    "import re\n",
    "re.findall(\"ab*c\",\"ac\")"
   ]
  },
  {
   "cell_type": "code",
   "execution_count": 8,
   "id": "dc989e46",
   "metadata": {},
   "outputs": [
    {
     "data": {
      "text/plain": [
       "['ABC']"
      ]
     },
     "execution_count": 8,
     "metadata": {},
     "output_type": "execute_result"
    }
   ],
   "source": [
    "re.findall(\"ab*c\",\"ABC\",re.IGNORECASE) # For instance, the asterisk character, *, stands for “zero or more” of\n",
    "# whatever came just before the asterisk"
   ]
  },
  {
   "cell_type": "code",
   "execution_count": 9,
   "id": "bedd8861",
   "metadata": {},
   "outputs": [
    {
     "data": {
      "text/plain": [
       "['abc']"
      ]
     },
     "execution_count": 9,
     "metadata": {},
     "output_type": "execute_result"
    }
   ],
   "source": [
    "re.findall(\"a.c\",\"abc\") # You can use a period . to stand for \n",
    "#any single character in a regular expression."
   ]
  },
  {
   "cell_type": "code",
   "execution_count": 10,
   "id": "cc894ce2",
   "metadata": {},
   "outputs": [
    {
     "data": {
      "text/plain": [
       "['abhsbdkbc']"
      ]
     },
     "execution_count": 10,
     "metadata": {},
     "output_type": "execute_result"
    }
   ],
   "source": [
    "re.findall(\"a.*c\",\"abhsbdkbc\")# Putting the term .* inside of a regular expression \n",
    "#stands for any character repeated any number of times"
   ]
  },
  {
   "cell_type": "code",
   "execution_count": 12,
   "id": "9620708d",
   "metadata": {},
   "outputs": [
    {
     "data": {
      "text/plain": [
       "'Everything is ELEPHANS.'"
      ]
     },
     "execution_count": 12,
     "metadata": {},
     "output_type": "execute_result"
    }
   ],
   "source": [
    "string = \"Everything is <replaced> if it's in <tags>.\"\n",
    "string = re.sub(\"<.*>\",\"ELEPHANS\",string) #  The re.sub() function, which is short for “substitute,”\n",
    "string # This is because Python’s regular expressions are greedy,\n",
    "# meaning that they try to find the longest possible match when characters like * are used"
   ]
  },
  {
   "cell_type": "code",
   "execution_count": 14,
   "id": "8b44434f",
   "metadata": {},
   "outputs": [
    {
     "data": {
      "text/plain": [
       "\"Everything is ELEPHANS if it's in ELEPHANS.\""
      ]
     },
     "execution_count": 14,
     "metadata": {},
     "output_type": "execute_result"
    }
   ],
   "source": [
    "string = \"Everything is <replaced> if it's in <tags>.\"\n",
    "string = re.sub(\"<.*?>\",\"ELEPHANS\",string) # Alternatively, you can use the non-greedy matching pattern *?, which\n",
    "# works the same way as * except that it matches the shortest possible string of text:\n",
    "string"
   ]
  },
  {
   "cell_type": "code",
   "execution_count": 16,
   "id": "2740f0f5",
   "metadata": {},
   "outputs": [
    {
     "name": "stdout",
     "output_type": "stream",
     "text": [
      "Profile: Dionysus\n"
     ]
    }
   ],
   "source": [
    "import re\n",
    "from urllib.request import urlopen\n",
    "\n",
    "url = \"http://olympus.realpython.org/profiles/dionysus\"\n",
    "page = urlopen(url)\n",
    "html = page.read().decode(\"utf-8\")\n",
    "\n",
    "pattern = \"<title.*?>.*?</title.*?>\"\n",
    "match_results = re.search(pattern,html,re.IGNORECASE)\n",
    "title = match_results.group()\n",
    "title = re.sub(\"<.*?>\",\"\",title)\n",
    "print(title)"
   ]
  },
  {
   "cell_type": "code",
   "execution_count": 18,
   "id": "932fa3ef",
   "metadata": {},
   "outputs": [
    {
     "name": "stdout",
     "output_type": "stream",
     "text": [
      "\n",
      "\n",
      "Profile: Dionysus\n",
      "\n",
      "\n",
      "\n",
      "\n",
      "\n",
      "Name: Dionysus\n",
      "\n",
      "Hometown: Mount Olympus\n",
      "\n",
      "Favorite animal: Leopard \n",
      "\n",
      "Favorite Color: Wine\n",
      "\n",
      "\n",
      "\n",
      "\n"
     ]
    }
   ],
   "source": [
    "from bs4 import BeautifulSoup\n",
    "from urllib.request import urlopen\n",
    "\n",
    "url = \"http://olympus.realpython.org/profiles/dionysus\"\n",
    "page = urlopen(url)\n",
    "html = page.read().decode(\"utf-8\")\n",
    "soup = BeautifulSoup(html,\"html.parser\")\n",
    "\n",
    "print(soup.get_text())"
   ]
  },
  {
   "cell_type": "code",
   "execution_count": 21,
   "id": "88dfa4a7",
   "metadata": {},
   "outputs": [],
   "source": [
    "image1,image2 = soup.find_all(\"img\")"
   ]
  },
  {
   "cell_type": "code",
   "execution_count": 22,
   "id": "2adc940c",
   "metadata": {},
   "outputs": [
    {
     "data": {
      "text/plain": [
       "'img'"
      ]
     },
     "execution_count": 22,
     "metadata": {},
     "output_type": "execute_result"
    }
   ],
   "source": [
    "image1.name"
   ]
  },
  {
   "cell_type": "code",
   "execution_count": 23,
   "id": "49ccb232",
   "metadata": {},
   "outputs": [
    {
     "data": {
      "text/plain": [
       "'/static/dionysus.jpg'"
      ]
     },
     "execution_count": 23,
     "metadata": {},
     "output_type": "execute_result"
    }
   ],
   "source": [
    "image1[\"src\"]"
   ]
  },
  {
   "cell_type": "code",
   "execution_count": 24,
   "id": "a36a7f80",
   "metadata": {},
   "outputs": [
    {
     "data": {
      "text/plain": [
       "<title>Profile: Dionysus</title>"
      ]
     },
     "execution_count": 24,
     "metadata": {},
     "output_type": "execute_result"
    }
   ],
   "source": [
    "soup.title"
   ]
  },
  {
   "cell_type": "code",
   "execution_count": 25,
   "id": "592c02e3",
   "metadata": {},
   "outputs": [
    {
     "data": {
      "text/plain": [
       "'Profile: Dionysus'"
      ]
     },
     "execution_count": 25,
     "metadata": {},
     "output_type": "execute_result"
    }
   ],
   "source": [
    "soup.title.string"
   ]
  },
  {
   "cell_type": "code",
   "execution_count": 26,
   "id": "1c981219",
   "metadata": {},
   "outputs": [
    {
     "data": {
      "text/plain": [
       "[<img src=\"/static/dionysus.jpg\"/>]"
      ]
     },
     "execution_count": 26,
     "metadata": {},
     "output_type": "execute_result"
    }
   ],
   "source": [
    "soup.find_all(\"img\",src=\"/static/dionysus.jpg\")"
   ]
  },
  {
   "cell_type": "code",
   "execution_count": null,
   "id": "6e83651e",
   "metadata": {},
   "outputs": [],
   "source": []
  }
 ],
 "metadata": {
  "kernelspec": {
   "display_name": "Python 3 (ipykernel)",
   "language": "python",
   "name": "python3"
  },
  "language_info": {
   "codemirror_mode": {
    "name": "ipython",
    "version": 3
   },
   "file_extension": ".py",
   "mimetype": "text/x-python",
   "name": "python",
   "nbconvert_exporter": "python",
   "pygments_lexer": "ipython3",
   "version": "3.9.7"
  }
 },
 "nbformat": 4,
 "nbformat_minor": 5
}
