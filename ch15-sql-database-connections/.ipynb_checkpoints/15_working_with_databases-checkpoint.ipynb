{
 "cells": [
  {
   "cell_type": "code",
   "execution_count": null,
   "id": "e70465d2",
   "metadata": {},
   "outputs": [],
   "source": [
    "#Structured Query Language (SQL)"
   ]
  },
  {
   "cell_type": "code",
   "execution_count": 1,
   "id": "9a7da009",
   "metadata": {},
   "outputs": [],
   "source": [
    "import sqlite3\n",
    "connection = sqlite3.connect(\"test_database.db\")"
   ]
  },
  {
   "cell_type": "code",
   "execution_count": 2,
   "id": "897398cb",
   "metadata": {},
   "outputs": [
    {
     "data": {
      "text/plain": [
       "sqlite3.Connection"
      ]
     },
     "execution_count": 2,
     "metadata": {},
     "output_type": "execute_result"
    }
   ],
   "source": [
    "type(connection)"
   ]
  },
  {
   "cell_type": "code",
   "execution_count": 3,
   "id": "0625c199",
   "metadata": {},
   "outputs": [
    {
     "data": {
      "text/plain": [
       "sqlite3.Cursor"
      ]
     },
     "execution_count": 3,
     "metadata": {},
     "output_type": "execute_result"
    }
   ],
   "source": [
    "cursor = connection.cursor()\n",
    "type(cursor)"
   ]
  },
  {
   "cell_type": "code",
   "execution_count": 4,
   "id": "ba3231a6",
   "metadata": {},
   "outputs": [
    {
     "data": {
      "text/plain": [
       "<sqlite3.Cursor at 0x24ff1a6c340>"
      ]
     },
     "execution_count": 4,
     "metadata": {},
     "output_type": "execute_result"
    }
   ],
   "source": [
    "query = \"SELECT datetime('now', 'localtime');\"\n",
    "cursor.execute(query)"
   ]
  },
  {
   "cell_type": "code",
   "execution_count": 5,
   "id": "bcbab06e",
   "metadata": {},
   "outputs": [
    {
     "data": {
      "text/plain": [
       "('2024-03-13 15:44:32',)"
      ]
     },
     "execution_count": 5,
     "metadata": {},
     "output_type": "execute_result"
    }
   ],
   "source": [
    "cursor.fetchone()# fetchone 取一个，alters the state of cursor"
   ]
  },
  {
   "cell_type": "code",
   "execution_count": 6,
   "id": "e28022bc",
   "metadata": {},
   "outputs": [
    {
     "data": {
      "text/plain": [
       "'2024-03-13 15:44:32'"
      ]
     },
     "execution_count": 6,
     "metadata": {},
     "output_type": "execute_result"
    }
   ],
   "source": [
    "time = cursor.execute(query).fetchone()[0]\n",
    "time"
   ]
  },
  {
   "cell_type": "code",
   "execution_count": 7,
   "id": "f2abc346",
   "metadata": {},
   "outputs": [],
   "source": [
    "connection.close()"
   ]
  },
  {
   "cell_type": "code",
   "execution_count": 8,
   "id": "d024dcfb",
   "metadata": {},
   "outputs": [
    {
     "data": {
      "text/plain": [
       "'2024-03-13 15:44:32'"
      ]
     },
     "execution_count": 8,
     "metadata": {},
     "output_type": "execute_result"
    }
   ],
   "source": [
    "with sqlite3.connect(\"test_database.db\") as connection:\n",
    "    cursor = connection.cursor()\n",
    "    query = \"SELECT datetime('now', 'localtime');\"\n",
    "    time = cursor.execute(query).fetchone()[0]\n",
    "time   "
   ]
  },
  {
   "cell_type": "code",
   "execution_count": 10,
   "id": "36d19ac8",
   "metadata": {},
   "outputs": [
    {
     "data": {
      "text/plain": [
       "('Ron', 'Obvious', 42)"
      ]
     },
     "execution_count": 10,
     "metadata": {},
     "output_type": "execute_result"
    }
   ],
   "source": [
    "qeury0 = \"DROP TABLE People;\"\n",
    "qeury1 = \"CREATE TABLE People(FirstName TEXT,LastName TEXT,Age INT);\"\n",
    "qeury2 = \"INSERT INTO People VALUES('Ron','Obvious',42);\"\n",
    "\n",
    "with sqlite3.connect(\"test_database.db\") as connection:\n",
    "    cursor = connection.cursor()\n",
    "    cursor.execute(qeury0)\n",
    "    cursor.execute(qeury1)\n",
    "    cursor.execute(qeury2)\n",
    "    \n",
    "cursor.execute(\"SELECT * FROM People;\").fetchone()"
   ]
  },
  {
   "cell_type": "code",
   "execution_count": null,
   "id": "4e5b1807",
   "metadata": {},
   "outputs": [],
   "source": []
  }
 ],
 "metadata": {
  "kernelspec": {
   "display_name": "Python 3 (ipykernel)",
   "language": "python",
   "name": "python3"
  },
  "language_info": {
   "codemirror_mode": {
    "name": "ipython",
    "version": 3
   },
   "file_extension": ".py",
   "mimetype": "text/x-python",
   "name": "python",
   "nbconvert_exporter": "python",
   "pygments_lexer": "ipython3",
   "version": "3.9.7"
  }
 },
 "nbformat": 4,
 "nbformat_minor": 5
}
