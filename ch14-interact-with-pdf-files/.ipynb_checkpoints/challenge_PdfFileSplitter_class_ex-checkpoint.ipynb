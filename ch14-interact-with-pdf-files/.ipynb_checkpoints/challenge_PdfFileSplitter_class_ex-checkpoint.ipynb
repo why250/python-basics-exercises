{
 "cells": [
  {
   "cell_type": "code",
   "execution_count": 1,
   "id": "e6b90f40",
   "metadata": {},
   "outputs": [],
   "source": [
    "from PyPDF2 import PdfFileReader,PdfFileWriter\n",
    "from pathlib import Path\n",
    "\n",
    "class PdfFileSplitter:\n",
    "    def __init__(self,file_name_in):\n",
    "        \n",
    "        self.path = Path.cwd() / file_name_in\n",
    "        self.pdf = PdfFileReader(self.path)\n",
    "        \n",
    "    def split(self,breakpoint):\n",
    "        self.writer1 = PdfFileWriter()\n",
    "        self.writer2 = PdfFileWriter()\n",
    "        \n",
    "        for page in self.pdf.pages[1:breakpoint]:\n",
    "            self.writer1.addPage(page)\n",
    "        for page in self.pdf.pages[breakpoint:]:\n",
    "            self.writer2.addPage(page)\n",
    "            \n",
    "    def write(self,file_name_out):\n",
    "        writer1_name = file_name_out + \"_1.pdf\"\n",
    "        writer1_path = Path.cwd() / writer1_name\n",
    "        writer2_name = file_name_out + \"_2.pdf\"\n",
    "        writer2_path = Path.cwd() / writer2_name\n",
    "        self.writer1.write(writer1_path)\n",
    "        self.writer2.write(writer2_path)\n",
    "           "
   ]
  },
  {
   "cell_type": "code",
   "execution_count": 2,
   "id": "074f8530",
   "metadata": {},
   "outputs": [],
   "source": [
    "#import PdfFileSplitter \n",
    "pdf_splitter = PdfFileSplitter(\"Pride_and_Prejudice-Copy1.pdf\")\n",
    "pdf_splitter.split(breakpoint = 150)\n",
    "pdf_splitter.write(\"mydoc_split\")\n"
   ]
  },
  {
   "cell_type": "code",
   "execution_count": 3,
   "id": "55607fd5",
   "metadata": {},
   "outputs": [
    {
     "data": {
      "text/plain": [
       "234"
      ]
     },
     "execution_count": 3,
     "metadata": {},
     "output_type": "execute_result"
    }
   ],
   "source": [
    "pdf = PdfFileReader(Path.cwd() / \"Pride_and_Prejudice-Copy1.pdf\")\n",
    "pdf1 = PdfFileReader(Path.cwd() / \"mydoc_split_1.pdf\")\n",
    "pdf2 = PdfFileReader(Path.cwd() / \"mydoc_split_2.pdf\")\n",
    "\n",
    "pdf.getNumPages()"
   ]
  },
  {
   "cell_type": "code",
   "execution_count": 4,
   "id": "da259c36",
   "metadata": {},
   "outputs": [
    {
     "data": {
      "text/plain": [
       "149"
      ]
     },
     "execution_count": 4,
     "metadata": {},
     "output_type": "execute_result"
    }
   ],
   "source": [
    "pdf1.getNumPages()"
   ]
  },
  {
   "cell_type": "code",
   "execution_count": 5,
   "id": "79a4ea31",
   "metadata": {},
   "outputs": [
    {
     "data": {
      "text/plain": [
       "84"
      ]
     },
     "execution_count": 5,
     "metadata": {},
     "output_type": "execute_result"
    }
   ],
   "source": [
    "pdf2.getNumPages()"
   ]
  },
  {
   "cell_type": "code",
   "execution_count": null,
   "id": "b62202cf",
   "metadata": {},
   "outputs": [],
   "source": []
  }
 ],
 "metadata": {
  "kernelspec": {
   "display_name": "Python 3 (ipykernel)",
   "language": "python",
   "name": "python3"
  },
  "language_info": {
   "codemirror_mode": {
    "name": "ipython",
    "version": 3
   },
   "file_extension": ".py",
   "mimetype": "text/x-python",
   "name": "python",
   "nbconvert_exporter": "python",
   "pygments_lexer": "ipython3",
   "version": "3.9.7"
  }
 },
 "nbformat": 4,
 "nbformat_minor": 5
}
