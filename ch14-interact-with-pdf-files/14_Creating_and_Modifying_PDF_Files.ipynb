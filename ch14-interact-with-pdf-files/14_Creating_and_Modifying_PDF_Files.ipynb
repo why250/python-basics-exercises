{
 "cells": [
  {
   "cell_type": "code",
   "execution_count": 1,
   "id": "89c1c900",
   "metadata": {},
   "outputs": [
    {
     "data": {
      "text/plain": [
       "WindowsPath('C:/Users/13621/Documents/GitHub/python-basics-exercises/ch14-interact-with-pdf-files')"
      ]
     },
     "execution_count": 1,
     "metadata": {},
     "output_type": "execute_result"
    }
   ],
   "source": [
    "from pathlib import Path\n",
    "Path.cwd()"
   ]
  },
  {
   "cell_type": "code",
   "execution_count": 2,
   "id": "01f3f89c",
   "metadata": {},
   "outputs": [
    {
     "name": "stdout",
     "output_type": "stream",
     "text": [
      "C:\\Users\\13621\\Documents\\GitHub\\python-basics-exercises\\ch14-interact-with-pdf-files\\practice_files\\Pride_and_Prejudice.pdf\n"
     ]
    }
   ],
   "source": [
    "pdf_path = Path.cwd()/ \"practice_files\" / \"Pride_and_Prejudice.pdf\"\n",
    "print(pdf_path)"
   ]
  },
  {
   "cell_type": "code",
   "execution_count": 3,
   "id": "fcdeeb23",
   "metadata": {},
   "outputs": [
    {
     "data": {
      "text/plain": [
       "234"
      ]
     },
     "execution_count": 3,
     "metadata": {},
     "output_type": "execute_result"
    }
   ],
   "source": [
    "from PyPDF2 import PdfFileReader\n",
    "pdf = PdfFileReader(str(pdf_path))\n",
    "pdf.getNumPages()"
   ]
  },
  {
   "cell_type": "code",
   "execution_count": 4,
   "id": "e3185b91",
   "metadata": {},
   "outputs": [
    {
     "data": {
      "text/plain": [
       "{'/Title': 'Pride and Prejudice, by Jane Austen',\n",
       " '/Author': 'Chuck',\n",
       " '/Creator': 'Microsoft® Office Word 2007',\n",
       " '/CreationDate': 'D:20110812174208',\n",
       " '/ModDate': 'D:20110812174208',\n",
       " '/Producer': 'Microsoft® Office Word 2007'}"
      ]
     },
     "execution_count": 4,
     "metadata": {},
     "output_type": "execute_result"
    }
   ],
   "source": [
    "pdf.documentInfo"
   ]
  },
  {
   "cell_type": "code",
   "execution_count": 5,
   "id": "fc51ad42",
   "metadata": {},
   "outputs": [
    {
     "data": {
      "text/plain": [
       "'Pride and Prejudice, by Jane Austen'"
      ]
     },
     "execution_count": 5,
     "metadata": {},
     "output_type": "execute_result"
    }
   ],
   "source": [
    "pdf.documentInfo.title"
   ]
  },
  {
   "cell_type": "code",
   "execution_count": 6,
   "id": "40d724a9",
   "metadata": {},
   "outputs": [
    {
     "data": {
      "text/plain": [
       "PyPDF2._page.PageObject"
      ]
     },
     "execution_count": 6,
     "metadata": {},
     "output_type": "execute_result"
    }
   ],
   "source": [
    "first_page = pdf.getPage(0)\n",
    "type(first_page)"
   ]
  },
  {
   "cell_type": "code",
   "execution_count": 7,
   "id": "3f38c792",
   "metadata": {},
   "outputs": [
    {
     "data": {
      "text/plain": [
       "' \\n \\nThe Project Gutenberg EBook of Pride and Prejudice, by Jane Austen  \\n \\nThis eBook is for the use of anyone anywhere at no cost and with  \\nalmost no restrictions whatsoever.  You may copy it, give it away or  \\nre-use it under the terms of the Project Gutenberg License included  \\nwith this eBook or online at www.gutenberg.org  \\n \\n \\nTitle: Pride and Prejudice  \\n \\nAuthor: Jane Austen  \\n \\nRelease Date: August 26, 2008 [EBook #1342]  \\n[Last updated: August 11, 2011]  \\n \\nLanguage: Eng lish \\n \\nCharacter set encoding: ASCII  \\n \\n*** START OF THIS PROJECT GUTENBERG EBOOK PRIDE AND PREJUDICE ***  \\n \\n \\n \\n \\nProduced by Anonymous Volunteers, and David Widger  \\n \\n \\n \\n \\n \\n \\nPRIDE AND PREJUDICE  \\n \\nBy Jane Austen  \\n \\n \\n \\nContents  '"
      ]
     },
     "execution_count": 7,
     "metadata": {},
     "output_type": "execute_result"
    }
   ],
   "source": [
    "first_page.extractText()"
   ]
  },
  {
   "cell_type": "code",
   "execution_count": 8,
   "id": "08518a31",
   "metadata": {},
   "outputs": [],
   "source": [
    "output_file_path = Path.cwd()/ \"practice_files\" / \"Pride_and_Prejudice.txt\"\n",
    "with output_file_path.open(mode = \"w\",encoding = \"utf-8\") as file:\n",
    "    file.write(\n",
    "        f\"{pdf.documentInfo.title}\\n\"\n",
    "        f\"Number of pages: {pdf.getNumPages()}\\n\\n\"\n",
    "    )\n",
    "    \n",
    "    for page in pdf.pages:\n",
    "        text = page.extractText()\n",
    "        file.write(text)"
   ]
  },
  {
   "cell_type": "code",
   "execution_count": 9,
   "id": "12f98e03",
   "metadata": {},
   "outputs": [
    {
     "data": {
      "text/plain": [
       "PyPDF2._page.PageObject"
      ]
     },
     "execution_count": 9,
     "metadata": {},
     "output_type": "execute_result"
    }
   ],
   "source": [
    "new_pdf_path = Path.cwd()/ \"practice_files\" / \"new.pdf\"\n",
    "from PyPDF2 import PdfFileWriter\n",
    "pdf_writer = PdfFileWriter()\n",
    "page = pdf_writer.addBlankPage(width=72,height=72)\n",
    "type(page)"
   ]
  },
  {
   "cell_type": "code",
   "execution_count": 10,
   "id": "6ef219e8",
   "metadata": {},
   "outputs": [
    {
     "data": {
      "text/plain": [
       "{'/Type': '/Page',\n",
       " '/Parent': {'/Type': '/Pages',\n",
       "  '/Count': 1,\n",
       "  '/Kids': [IndirectObject(3, 0, 2183113611776)]},\n",
       " '/Resources': {},\n",
       " '/MediaBox': RectangleObject([0, 0, 72, 72])}"
      ]
     },
     "execution_count": 10,
     "metadata": {},
     "output_type": "execute_result"
    }
   ],
   "source": [
    "page"
   ]
  },
  {
   "cell_type": "code",
   "execution_count": 11,
   "id": "6cca332c",
   "metadata": {},
   "outputs": [],
   "source": [
    "pdf_writer.addBlankPage(width=72,height=72)\n",
    "with new_pdf_path.open(mode = \"wb\") as output_file:\n",
    "    pdf_writer.write(output_file)"
   ]
  },
  {
   "cell_type": "code",
   "execution_count": 12,
   "id": "8bf57cdf",
   "metadata": {},
   "outputs": [],
   "source": [
    "chapter1_path = Path.cwd()/ \"practice_files\" / \"Chapter1.pdf\"\n",
    "#pdf = PdfFileReader(str(pdf_path)\n",
    "                    \n",
    "pdf_writer2 = PdfFileWriter() #how to restart PdfFileWriter()\n",
    "                    \n",
    "for page in pdf.pages[1:4]:\n",
    "    pdf_writer2.addPage(page)          \n",
    "                    \n",
    "with chapter1_path.open(mode = \"wb\") as chapter1:\n",
    "    pdf_writer2.write(chapter1)"
   ]
  },
  {
   "cell_type": "code",
   "execution_count": 13,
   "id": "e6ca0754",
   "metadata": {},
   "outputs": [
    {
     "name": "stdout",
     "output_type": "stream",
     "text": [
      "C:\\Users\\13621\\Documents\\GitHub\\python-basics-exercises\\ch14-interact-with-pdf-files\\practice_files\\expense_reports\n"
     ]
    }
   ],
   "source": [
    "from PyPDF2 import PdfFileMerger\n",
    "pdf_merger = PdfFileMerger()\n",
    "\n",
    "reports_path = Path.cwd() / \"practice_files\" / \"expense_reports\"\n",
    "\n",
    "print(reports_path)"
   ]
  },
  {
   "cell_type": "code",
   "execution_count": 14,
   "id": "cffb02f6",
   "metadata": {},
   "outputs": [
    {
     "name": "stdout",
     "output_type": "stream",
     "text": [
      "Expense report 1.pdf\n",
      "Expense report 2.pdf\n",
      "Expense report 3.pdf\n"
     ]
    }
   ],
   "source": [
    "expense_reports = list(reports_path.glob(\"*[123].pdf\"))#The names of the three files are listed, but they aren’t in order\n",
    "expense_reports.sort()\n",
    "for path in expense_reports:\n",
    "    print(path.name)"
   ]
  },
  {
   "cell_type": "code",
   "execution_count": 15,
   "id": "faebe68d",
   "metadata": {},
   "outputs": [],
   "source": [
    "for path in expense_reports:\n",
    "    pdf_merger.append(str(path))\n",
    "    \n",
    "reports_file = Path.cwd() / \"practice_files\" / \"expense_reports\" /\"Expense_reports.pdf\"\n",
    "    \n",
    "with reports_file.open(mode = \"wb\") as reports:\n",
    "    pdf_merger.write(reports)"
   ]
  },
  {
   "cell_type": "code",
   "execution_count": 16,
   "id": "43f2177b",
   "metadata": {},
   "outputs": [],
   "source": [
    "quarterly_report_path = Path.cwd() / \"practice_files\" / \"quarterly_report\"\n",
    "report_path = quarterly_report_path / \"report.pdf\"\n",
    "table_path = quarterly_report_path / \"toc.pdf\"\n",
    "\n",
    "full_report_path = quarterly_report_path / \"full_report.pdf\"\n",
    "\n",
    "pdf_merger2 = PdfFileMerger()\n",
    "pdf_merger2.append(str(report_path))\n",
    "\n",
    "pdf_merger2.merge(1,str(table_path))\n",
    "\n",
    "with full_report_path.open(mode = \"wb\") as report:\n",
    "    pdf_merger2.write(report)\n"
   ]
  },
  {
   "cell_type": "code",
   "execution_count": 17,
   "id": "7d0a30d0",
   "metadata": {},
   "outputs": [],
   "source": [
    "\n",
    "old_file_path = Path.cwd() / \"practice_files\" / \"ugly.pdf\"\n",
    "new_file_pdf = Path.cwd() / \"practice_files\" / \"ugly_rotated.pdf\"\n",
    "\n",
    "pdf_reader = PdfFileReader(str(old_file_path))\n",
    "pdf_writer = PdfFileWriter()\n",
    "\n",
    "for page in pdf_reader.pages:\n",
    "    if page[\"/Rotate\"] == -90:\n",
    "        pdf_writer.addPage(page.rotateClockwise(90))\n",
    "\n",
    "with new_file_pdf.open(mode = \"wb\") as file:\n",
    "    pdf_writer.write(file)\n",
    "    "
   ]
  },
  {
   "cell_type": "code",
   "execution_count": 18,
   "id": "428e34a8",
   "metadata": {},
   "outputs": [],
   "source": [
    "pdf_path = Path.cwd() / \"practice_files\" / \"half_and_half.pdf\"\n",
    "cropped_pdf_path = Path.cwd() / \"practice_files\" / \"cropped_page.pdf\"\n",
    "pdf_reader = PdfFileReader(str(pdf_path))\n",
    "first_page = pdf_reader.pages[0]\n",
    "box = first_page.mediaBox"
   ]
  },
  {
   "cell_type": "code",
   "execution_count": 19,
   "id": "fd7955d3",
   "metadata": {},
   "outputs": [
    {
     "data": {
      "text/plain": [
       "(0, 0)"
      ]
     },
     "execution_count": 19,
     "metadata": {},
     "output_type": "execute_result"
    }
   ],
   "source": [
    "box.lowerLeft"
   ]
  },
  {
   "cell_type": "code",
   "execution_count": 20,
   "id": "98bab3d8",
   "metadata": {},
   "outputs": [
    {
     "data": {
      "text/plain": [
       "(792, 0)"
      ]
     },
     "execution_count": 20,
     "metadata": {},
     "output_type": "execute_result"
    }
   ],
   "source": [
    "box.lowerRight"
   ]
  },
  {
   "cell_type": "code",
   "execution_count": 21,
   "id": "e34b5687",
   "metadata": {},
   "outputs": [
    {
     "data": {
      "text/plain": [
       "(0, 612)"
      ]
     },
     "execution_count": 21,
     "metadata": {},
     "output_type": "execute_result"
    }
   ],
   "source": [
    "box.upperLeft"
   ]
  },
  {
   "cell_type": "code",
   "execution_count": 22,
   "id": "cd2c62ca",
   "metadata": {},
   "outputs": [
    {
     "data": {
      "text/plain": [
       "(792, 612)"
      ]
     },
     "execution_count": 22,
     "metadata": {},
     "output_type": "execute_result"
    }
   ],
   "source": [
    "box.upperRight"
   ]
  },
  {
   "cell_type": "code",
   "execution_count": 23,
   "id": "ba7c9a4d",
   "metadata": {},
   "outputs": [
    {
     "data": {
      "text/plain": [
       "(792, 480)"
      ]
     },
     "execution_count": 23,
     "metadata": {},
     "output_type": "execute_result"
    }
   ],
   "source": [
    "box.upperLeft = (0,480)\n",
    "box.upperRight"
   ]
  },
  {
   "cell_type": "code",
   "execution_count": 24,
   "id": "e3cf7c74",
   "metadata": {},
   "outputs": [],
   "source": [
    "pdf_writer = PdfFileWriter()\n",
    "pdf_writer.addPage(first_page)\n",
    "\n",
    "with cropped_pdf_path.open(mode = \"wb\") as page:\n",
    "    pdf_writer.write(page)\n",
    "    "
   ]
  },
  {
   "cell_type": "code",
   "execution_count": 25,
   "id": "ae98731f",
   "metadata": {},
   "outputs": [],
   "source": [
    "import copy\n",
    "pdf_reader = PdfFileReader(str(pdf_path))\n",
    "first_page = pdf_reader.pages[0]\n",
    "\n",
    "left_side = copy.deepcopy(first_page)\n",
    "current_coords = left_side.mediaBox.upperRight\n",
    "new_coords = (current_coords[0]/2,current_coords[1])\n",
    "left_side.mediaBox.upperRight = new_coords\n",
    "\n",
    "right_side = copy.deepcopy(first_page)\n",
    "right_side.mediaBox.upperLeft = new_coords\n",
    "\n",
    "pdf_writer = PdfFileWriter()\n",
    "pdf_writer.addPage(left_side)\n",
    "pdf_writer.addPage(right_side)\n",
    "\n",
    "cropped_pdf_path2 = Path.cwd() / \"practice_files\" / \"cropped_page2.pdf\"\n",
    "\n",
    "with cropped_pdf_path2.open(mode = \"wb\") as page:\n",
    "    pdf_writer.write(page)\n"
   ]
  },
  {
   "cell_type": "code",
   "execution_count": 27,
   "id": "794e9d1d",
   "metadata": {},
   "outputs": [],
   "source": [
    "pdf_path = Path.cwd() / \"practice_files\" / \"Pride_and_Prejudice.pdf\"\n",
    "pdf_reader = PdfFileReader(str(pdf_path))\n",
    "prf_writer2 = PdfFileWriter()# prf_writer = PdfFileWriter() 可能包含上次添加的pdf\n",
    "#重新声明，应该清零才对\n",
    "pdf_writer2.appendPagesFromReader(pdf_reader)\n",
    "pdf_writer2.encrypt(user_pwd=\"SuperSecret\")\n",
    "\n",
    "new_pdf_path = Path.cwd() / \"practice_files\" / \"Pride_and_Prejudice_protected.pdf\"\n",
    "with new_pdf_path.open(mode = \"wb\") as pdf:\n",
    "    pdf_writer2.write(pdf)\n",
    "\n"
   ]
  },
  {
   "cell_type": "code",
   "execution_count": 28,
   "id": "15cc8488",
   "metadata": {},
   "outputs": [
    {
     "data": {
      "text/plain": [
       "<PasswordType.OWNER_PASSWORD: 2>"
      ]
     },
     "execution_count": 28,
     "metadata": {},
     "output_type": "execute_result"
    }
   ],
   "source": [
    "pdf_reader = PdfFileReader(str(new_pdf_path))\n",
    "pdf_reader.decrypt(password = \"SuperSecret\")\n",
    "#pdf_reader.getPage(0)"
   ]
  },
  {
   "cell_type": "code",
   "execution_count": null,
   "id": "e2708db7",
   "metadata": {},
   "outputs": [],
   "source": []
  }
 ],
 "metadata": {
  "kernelspec": {
   "display_name": "Python 3 (ipykernel)",
   "language": "python",
   "name": "python3"
  },
  "language_info": {
   "codemirror_mode": {
    "name": "ipython",
    "version": 3
   },
   "file_extension": ".py",
   "mimetype": "text/x-python",
   "name": "python",
   "nbconvert_exporter": "python",
   "pygments_lexer": "ipython3",
   "version": "3.9.7"
  }
 },
 "nbformat": 4,
 "nbformat_minor": 5
}
