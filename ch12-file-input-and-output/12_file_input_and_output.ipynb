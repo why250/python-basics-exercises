{
 "cells": [
  {
   "cell_type": "markdown",
   "id": "b04282f4",
   "metadata": {},
   "source": [
    "# _File Input and Output_"
   ]
  },
  {
   "cell_type": "markdown",
   "id": "e503f4ca",
   "metadata": {},
   "source": [
    "## Working With File Paths in Python\n",
    "### Creating Path Objects\n"
   ]
  },
  {
   "cell_type": "code",
   "execution_count": 58,
   "id": "5c9001fe",
   "metadata": {},
   "outputs": [],
   "source": [
    "import pathlib\n",
    "\n",
    "#path = pathlib.Path(\"C:/Users/David/Desktop/hello.txt\")"
   ]
  },
  {
   "cell_type": "markdown",
   "id": "c9d9c4c8",
   "metadata": {},
   "source": [
    "### `Path.home() and Path.cwd()`"
   ]
  },
  {
   "cell_type": "code",
   "execution_count": 59,
   "id": "192e285d",
   "metadata": {},
   "outputs": [],
   "source": [
    "home = pathlib.Path.home()"
   ]
  },
  {
   "cell_type": "code",
   "execution_count": 60,
   "id": "5e0ad0b4",
   "metadata": {},
   "outputs": [
    {
     "data": {
      "text/plain": [
       "WindowsPath('C:/Users/13621')"
      ]
     },
     "execution_count": 60,
     "metadata": {},
     "output_type": "execute_result"
    }
   ],
   "source": [
    "home"
   ]
  },
  {
   "cell_type": "code",
   "execution_count": 61,
   "id": "488e6db6",
   "metadata": {},
   "outputs": [
    {
     "data": {
      "text/plain": [
       "WindowsPath('C:/Users/13621/Documents/GitHub/python-basics-exercises/ch12-file-input-and-output')"
      ]
     },
     "execution_count": 61,
     "metadata": {},
     "output_type": "execute_result"
    }
   ],
   "source": [
    "pathlib.Path.cwd()"
   ]
  },
  {
   "cell_type": "markdown",
   "id": "3642072a",
   "metadata": {},
   "source": [
    "### Using the / Operator"
   ]
  },
  {
   "cell_type": "code",
   "execution_count": 62,
   "id": "019e4e33",
   "metadata": {},
   "outputs": [
    {
     "data": {
      "text/plain": [
       "WindowsPath('C:/Users/13621/Desktop/hello.text')"
      ]
     },
     "execution_count": 62,
     "metadata": {},
     "output_type": "execute_result"
    }
   ],
   "source": [
    "home / \"Desktop\" / \"hello.text\""
   ]
  },
  {
   "cell_type": "markdown",
   "id": "d395ed28",
   "metadata": {},
   "source": [
    "### Accessing File Path Components"
   ]
  },
  {
   "cell_type": "markdown",
   "id": "3cb575e9",
   "metadata": {},
   "source": [
    "### `.parents and .parent and .name`"
   ]
  },
  {
   "cell_type": "code",
   "execution_count": 63,
   "id": "e7eb2346",
   "metadata": {},
   "outputs": [
    {
     "data": {
      "text/plain": [
       "[WindowsPath('C:/Users/13621'), WindowsPath('C:/Users'), WindowsPath('C:/')]"
      ]
     },
     "execution_count": 63,
     "metadata": {},
     "output_type": "execute_result"
    }
   ],
   "source": [
    "path = pathlib.Path.home() / \"hello.text\"\n",
    "list(path.parents)\n"
   ]
  },
  {
   "cell_type": "code",
   "execution_count": 64,
   "id": "35437b3f",
   "metadata": {},
   "outputs": [
    {
     "name": "stdout",
     "output_type": "stream",
     "text": [
      "C:\\Users\\13621\n",
      "C:\\Users\n",
      "C:\\\n"
     ]
    }
   ],
   "source": [
    "for directory in path.parents:\n",
    "    print(directory)"
   ]
  },
  {
   "cell_type": "code",
   "execution_count": 65,
   "id": "c37c60d0",
   "metadata": {},
   "outputs": [
    {
     "data": {
      "text/plain": [
       "WindowsPath('C:/Users/13621')"
      ]
     },
     "execution_count": 65,
     "metadata": {},
     "output_type": "execute_result"
    }
   ],
   "source": [
    "path.parent"
   ]
  },
  {
   "cell_type": "code",
   "execution_count": 66,
   "id": "1453a0c2",
   "metadata": {},
   "outputs": [
    {
     "data": {
      "text/plain": [
       "'C:\\\\'"
      ]
     },
     "execution_count": 66,
     "metadata": {},
     "output_type": "execute_result"
    }
   ],
   "source": [
    "path.anchor"
   ]
  },
  {
   "cell_type": "code",
   "execution_count": 67,
   "id": "70bae7b6-510e-48ab-bcb0-80deaeddad2f",
   "metadata": {},
   "outputs": [
    {
     "data": {
      "text/plain": [
       "'hello.text'"
      ]
     },
     "execution_count": 67,
     "metadata": {},
     "output_type": "execute_result"
    }
   ],
   "source": [
    "path.name"
   ]
  },
  {
   "cell_type": "markdown",
   "id": "87794ad6",
   "metadata": {},
   "source": [
    "### `.stem and .suffix`"
   ]
  },
  {
   "cell_type": "code",
   "execution_count": 10,
   "id": "b00a38ed",
   "metadata": {},
   "outputs": [
    {
     "data": {
      "text/plain": [
       "'hello'"
      ]
     },
     "execution_count": 10,
     "metadata": {},
     "output_type": "execute_result"
    }
   ],
   "source": [
    "path.stem"
   ]
  },
  {
   "cell_type": "code",
   "execution_count": 11,
   "id": "85e88815",
   "metadata": {},
   "outputs": [
    {
     "data": {
      "text/plain": [
       "'.text'"
      ]
     },
     "execution_count": 11,
     "metadata": {},
     "output_type": "execute_result"
    }
   ],
   "source": [
    "path.suffix"
   ]
  },
  {
   "cell_type": "markdown",
   "id": "a4aa80fb",
   "metadata": {},
   "source": [
    "### Checking Whether Or Not a File Path Exists"
   ]
  },
  {
   "cell_type": "code",
   "execution_count": 12,
   "id": "255466f4",
   "metadata": {},
   "outputs": [
    {
     "data": {
      "text/plain": [
       "True"
      ]
     },
     "execution_count": 12,
     "metadata": {},
     "output_type": "execute_result"
    }
   ],
   "source": [
    "path.exists()"
   ]
  },
  {
   "cell_type": "code",
   "execution_count": 13,
   "id": "1cd20468",
   "metadata": {},
   "outputs": [
    {
     "data": {
      "text/plain": [
       "False"
      ]
     },
     "execution_count": 13,
     "metadata": {},
     "output_type": "execute_result"
    }
   ],
   "source": [
    "path.is_file()#Note that if the file path refers to a file, but doesn’t exist, then .is_file() returns False."
   ]
  },
  {
   "cell_type": "code",
   "execution_count": 14,
   "id": "be8fed82",
   "metadata": {},
   "outputs": [
    {
     "data": {
      "text/plain": [
       "True"
      ]
     },
     "execution_count": 14,
     "metadata": {},
     "output_type": "execute_result"
    }
   ],
   "source": [
    "path.is_dir()"
   ]
  },
  {
   "cell_type": "markdown",
   "id": "d02135d9",
   "metadata": {},
   "source": [
    "## Common File System Operations"
   ]
  },
  {
   "cell_type": "markdown",
   "id": "e17392c0",
   "metadata": {},
   "source": [
    "### Creating Directories and Files"
   ]
  },
  {
   "cell_type": "code",
   "execution_count": 15,
   "id": "ae6a7f18",
   "metadata": {},
   "outputs": [],
   "source": [
    "from pathlib import Path\n",
    "new_dir = Path.home() / \"new_directory_test\"\n",
    "new_dir.mkdir(exist_ok = True)"
   ]
  },
  {
   "cell_type": "code",
   "execution_count": 16,
   "id": "adeeb1fa",
   "metadata": {},
   "outputs": [],
   "source": [
    "new_dir.mkdir(exist_ok = True)#When you execute .mkdir() with the exist_ok parameter set to True, \n",
    "#the directory is created if it does not exist, or nothing happens if it does."
   ]
  },
  {
   "cell_type": "code",
   "execution_count": 17,
   "id": "8d546fa4",
   "metadata": {},
   "outputs": [
    {
     "data": {
      "text/plain": [
       "True"
      ]
     },
     "execution_count": 17,
     "metadata": {},
     "output_type": "execute_result"
    }
   ],
   "source": [
    "new_dir.is_dir()"
   ]
  },
  {
   "cell_type": "code",
   "execution_count": 18,
   "id": "072ec59c",
   "metadata": {},
   "outputs": [
    {
     "data": {
      "text/plain": [
       "True"
      ]
     },
     "execution_count": 18,
     "metadata": {},
     "output_type": "execute_result"
    }
   ],
   "source": [
    "new_dir.exists()"
   ]
  },
  {
   "cell_type": "code",
   "execution_count": 19,
   "id": "3a0fed18",
   "metadata": {},
   "outputs": [],
   "source": [
    "nest_dir = new_dir / \"folder_a\" / \"folder_b\"\n",
    "nest_dir.mkdir(parents = True)#To create any parent directories needed in order to create the target\n",
    "#directory, set the optional parents parameter of .mkdir() to True."
   ]
  },
  {
   "cell_type": "markdown",
   "id": "d6ad88ae",
   "metadata": {},
   "source": [
    "*Common pattern for creating directories*"
   ]
  },
  {
   "cell_type": "code",
   "execution_count": 20,
   "id": "d332601b",
   "metadata": {},
   "outputs": [],
   "source": [
    "path.mkdir(exist_ok = True,parents = True)"
   ]
  },
  {
   "cell_type": "markdown",
   "id": "0455514e",
   "metadata": {},
   "source": [
    "### `Path.touch()`"
   ]
  },
  {
   "cell_type": "code",
   "execution_count": 21,
   "id": "e794ac50",
   "metadata": {},
   "outputs": [
    {
     "data": {
      "text/plain": [
       "True"
      ]
     },
     "execution_count": 21,
     "metadata": {},
     "output_type": "execute_result"
    }
   ],
   "source": [
    "file_path = new_dir / \"file1.txt\"\n",
    "file_path.touch()\n",
    "file_path.exists()"
   ]
  },
  {
   "cell_type": "code",
   "execution_count": 22,
   "id": "b7a2991d",
   "metadata": {},
   "outputs": [],
   "source": [
    "file_path.parent.mkdir(exist_ok = True,parents = True)\n",
    "file_path.touch()"
   ]
  },
  {
   "cell_type": "markdown",
   "id": "f2d46107",
   "metadata": {},
   "source": [
    "### Iterating Over Directory Contents"
   ]
  },
  {
   "cell_type": "markdown",
   "id": "d1cceba6",
   "metadata": {},
   "source": [
    "### `.iterdir()`"
   ]
  },
  {
   "cell_type": "code",
   "execution_count": 23,
   "id": "ab20fb12",
   "metadata": {},
   "outputs": [
    {
     "name": "stdout",
     "output_type": "stream",
     "text": [
      "C:\\Users\\13621\\new_directory_test\\file1.txt\n",
      "C:\\Users\\13621\\new_directory_test\\folder_a\n",
      "C:\\Users\\13621\\new_directory_test\\program2.py\n"
     ]
    }
   ],
   "source": [
    "for path in new_dir.iterdir():#Path.iterdir() method returns an iterator over Path objects represent\u0002ing each item in the directory.\n",
    "    print(path)"
   ]
  },
  {
   "cell_type": "code",
   "execution_count": 24,
   "id": "c1acfbec",
   "metadata": {},
   "outputs": [
    {
     "data": {
      "text/plain": [
       "[WindowsPath('C:/Users/13621/new_directory_test/file1.txt'),\n",
       " WindowsPath('C:/Users/13621/new_directory_test/folder_a'),\n",
       " WindowsPath('C:/Users/13621/new_directory_test/program2.py')]"
      ]
     },
     "execution_count": 24,
     "metadata": {},
     "output_type": "execute_result"
    }
   ],
   "source": [
    "list(new_dir.iterdir())"
   ]
  },
  {
   "cell_type": "markdown",
   "id": "87dc4470",
   "metadata": {},
   "source": [
    "### Searching For Files In a Directory"
   ]
  },
  {
   "cell_type": "markdown",
   "id": "25cfa2d3",
   "metadata": {},
   "source": [
    "### `.glob()`"
   ]
  },
  {
   "cell_type": "code",
   "execution_count": 25,
   "id": "883d2c86",
   "metadata": {},
   "outputs": [
    {
     "name": "stdout",
     "output_type": "stream",
     "text": [
      "C:\\Users\\13621\\new_directory_test\\file1.txt\n"
     ]
    }
   ],
   "source": [
    "#A wildcard character is a special character that acts as a place\u0002holder in a pattern. The are replaced with other characters to create\n",
    "#a concrete file path.\n",
    "\n",
    "for path in new_dir.glob(\"*.txt\"):\n",
    "    print(path)"
   ]
  },
  {
   "cell_type": "code",
   "execution_count": 26,
   "id": "1678e227",
   "metadata": {},
   "outputs": [],
   "source": [
    "paths = [\n",
    "    new_dir / \"program1.py\",\n",
    "    new_dir / \"program2.py\",\n",
    "    new_dir / \"folder_a\" / \"program3.py\",\n",
    "    new_dir / \"folder_a\" / \"folder_b\" / \"image1.jpg\",\n",
    "    new_dir / \"folder_a\" / \"folder_b\" / \"image2.png\",\n",
    "    ]\n",
    "for path in paths:\n",
    "    path.touch()"
   ]
  },
  {
   "cell_type": "markdown",
   "id": "9c588825",
   "metadata": {},
   "source": [
    "### The * and ? and [] wildcard"
   ]
  },
  {
   "cell_type": "code",
   "execution_count": 27,
   "id": "8a1e8c85",
   "metadata": {},
   "outputs": [
    {
     "data": {
      "text/plain": [
       "[WindowsPath('C:/Users/13621/new_directory_test/program1.py'),\n",
       " WindowsPath('C:/Users/13621/new_directory_test/program2.py')]"
      ]
     },
     "execution_count": 27,
     "metadata": {},
     "output_type": "execute_result"
    }
   ],
   "source": [
    "list(new_dir.glob(\"*.py\"))"
   ]
  },
  {
   "cell_type": "code",
   "execution_count": 28,
   "id": "c209860b",
   "metadata": {},
   "outputs": [
    {
     "data": {
      "text/plain": [
       "[WindowsPath('C:/Users/13621/new_directory_test/file1.txt'),\n",
       " WindowsPath('C:/Users/13621/new_directory_test/program1.py')]"
      ]
     },
     "execution_count": 28,
     "metadata": {},
     "output_type": "execute_result"
    }
   ],
   "source": [
    "list(new_dir.glob(\"*1*\"))"
   ]
  },
  {
   "cell_type": "code",
   "execution_count": 29,
   "id": "309fedd2",
   "metadata": {},
   "outputs": [
    {
     "data": {
      "text/plain": [
       "[WindowsPath('C:/Users/13621/new_directory_test/program1.py'),\n",
       " WindowsPath('C:/Users/13621/new_directory_test/program2.py')]"
      ]
     },
     "execution_count": 29,
     "metadata": {},
     "output_type": "execute_result"
    }
   ],
   "source": [
    "list(new_dir.glob(\"program?.py\"))"
   ]
  },
  {
   "cell_type": "code",
   "execution_count": 30,
   "id": "c078e831",
   "metadata": {},
   "outputs": [
    {
     "data": {
      "text/plain": [
       "[WindowsPath('C:/Users/13621/new_directory_test/program1.py')]"
      ]
     },
     "execution_count": 30,
     "metadata": {},
     "output_type": "execute_result"
    }
   ],
   "source": [
    "list(new_dir.glob(\"program[13].py\"))"
   ]
  },
  {
   "cell_type": "markdown",
   "id": "012053e6",
   "metadata": {},
   "source": [
    "### Recursive Matching With the ** Wildcard"
   ]
  },
  {
   "cell_type": "code",
   "execution_count": 31,
   "id": "06359e6b",
   "metadata": {},
   "outputs": [
    {
     "data": {
      "text/plain": [
       "[WindowsPath('C:/Users/13621/new_directory_test/program1.py'),\n",
       " WindowsPath('C:/Users/13621/new_directory_test/program2.py'),\n",
       " WindowsPath('C:/Users/13621/new_directory_test/folder_a/program3.py')]"
      ]
     },
     "execution_count": 31,
     "metadata": {},
     "output_type": "execute_result"
    }
   ],
   "source": [
    "list(new_dir.glob(\"**/*.py\"))#There is a special wildcard character ** that makes the pattern recursive."
   ]
  },
  {
   "cell_type": "code",
   "execution_count": 32,
   "id": "0e234bf6",
   "metadata": {},
   "outputs": [
    {
     "data": {
      "text/plain": [
       "[WindowsPath('C:/Users/13621/new_directory_test/program1.py'),\n",
       " WindowsPath('C:/Users/13621/new_directory_test/program2.py'),\n",
       " WindowsPath('C:/Users/13621/new_directory_test/folder_a/program3.py')]"
      ]
     },
     "execution_count": 32,
     "metadata": {},
     "output_type": "execute_result"
    }
   ],
   "source": [
    "list(new_dir.rglob(\"*.py\"))#There is also a shorthand method to doing recursive matching called.rglob()."
   ]
  },
  {
   "cell_type": "markdown",
   "id": "bf9b1af6",
   "metadata": {},
   "source": [
    "### Moving and Deleting Files and Folders"
   ]
  },
  {
   "cell_type": "markdown",
   "id": "cec225fc",
   "metadata": {},
   "source": [
    "### `.replace()` "
   ]
  },
  {
   "cell_type": "code",
   "execution_count": 33,
   "id": "ab0312d3",
   "metadata": {},
   "outputs": [
    {
     "data": {
      "text/plain": [
       "WindowsPath('C:/Users/13621/new_directory_test/folder_a/file1.txt')"
      ]
     },
     "execution_count": 33,
     "metadata": {},
     "output_type": "execute_result"
    }
   ],
   "source": [
    "source = new_dir / \"file1.txt\"\n",
    "destination = new_dir / \"folder_a\" / \"file1.txt\"\n",
    "source.replace(destination)"
   ]
  },
  {
   "cell_type": "markdown",
   "id": "6caa1545",
   "metadata": {},
   "source": [
    "### `.unlink()`"
   ]
  },
  {
   "cell_type": "code",
   "execution_count": 34,
   "id": "7d86e3c5",
   "metadata": {},
   "outputs": [
    {
     "data": {
      "text/plain": [
       "False"
      ]
     },
     "execution_count": 34,
     "metadata": {},
     "output_type": "execute_result"
    }
   ],
   "source": [
    "file_path = new_dir / \"program1.py\"\n",
    "file_path.unlink()\n",
    "file_path.exists()"
   ]
  },
  {
   "cell_type": "markdown",
   "id": "79e9abfe",
   "metadata": {},
   "source": [
    "### `.rmdir()`"
   ]
  },
  {
   "cell_type": "code",
   "execution_count": 35,
   "id": "58ec6d75",
   "metadata": {},
   "outputs": [
    {
     "data": {
      "text/plain": [
       "False"
      ]
     },
     "execution_count": 35,
     "metadata": {},
     "output_type": "execute_result"
    }
   ],
   "source": [
    "folder_b = new_dir / \"folder_a\" / \"folder_b\"\n",
    "\n",
    "for path in folder_b.iterdir():#To delete folder_b, first delete all of the files it contains:\n",
    "    path.unlink()\n",
    "\n",
    "folder_b.rmdir()\n",
    "folder_b.exists()"
   ]
  },
  {
   "cell_type": "markdown",
   "id": "24914b27",
   "metadata": {},
   "source": [
    "### `rmtree()`"
   ]
  },
  {
   "cell_type": "code",
   "execution_count": 36,
   "id": "385c841e",
   "metadata": {},
   "outputs": [
    {
     "data": {
      "text/plain": [
       "False"
      ]
     },
     "execution_count": 36,
     "metadata": {},
     "output_type": "execute_result"
    }
   ],
   "source": [
    "import shutil\n",
    "folder_a = new_dir / \"folder_a\"\n",
    "shutil.rmtree(folder_a)\n",
    "folder_a.exists()"
   ]
  },
  {
   "cell_type": "markdown",
   "id": "46124ef0",
   "metadata": {},
   "source": [
    "## Reading and Writing Files"
   ]
  },
  {
   "cell_type": "markdown",
   "id": "fe5a38b9",
   "metadata": {},
   "source": [
    "### Python File Objects"
   ]
  },
  {
   "cell_type": "markdown",
   "id": "2f687a03",
   "metadata": {},
   "source": [
    "### `Path.open()`"
   ]
  },
  {
   "cell_type": "code",
   "execution_count": 37,
   "id": "ab7f0c9b",
   "metadata": {},
   "outputs": [
    {
     "data": {
      "text/plain": [
       "<_io.TextIOWrapper name='C:\\\\Users\\\\13621\\\\hello.txt' mode='r' encoding='utf-8'>"
      ]
     },
     "execution_count": 37,
     "metadata": {},
     "output_type": "execute_result"
    }
   ],
   "source": [
    "from pathlib import Path\n",
    "path = Path.home()/\"hello.txt\"\n",
    "path.touch()\n",
    "file = path.open(mode = \"r\",encoding = \"utf-8\")\n",
    "file"
   ]
  },
  {
   "cell_type": "code",
   "execution_count": 38,
   "id": "6b17f334",
   "metadata": {},
   "outputs": [],
   "source": [
    "file.close()#Forgetting to close opened files like littering. When your pro\u0002gram stops running, it shouldn’t leave unnecessary waste laying\n",
    "#around the system"
   ]
  },
  {
   "cell_type": "code",
   "execution_count": 39,
   "id": "8dbb85f2",
   "metadata": {},
   "outputs": [
    {
     "data": {
      "text/plain": [
       "<_io.TextIOWrapper name='C:\\\\Users\\\\13621\\\\hello.txt' mode='r' encoding='utf-8'>"
      ]
     },
     "execution_count": 39,
     "metadata": {},
     "output_type": "execute_result"
    }
   ],
   "source": [
    "#The open() Built in\n",
    "file = open(path,mode = \"r\",encoding = \"utf-8\")\n",
    "file"
   ]
  },
  {
   "cell_type": "code",
   "execution_count": 40,
   "id": "4b0a4ff8",
   "metadata": {},
   "outputs": [],
   "source": [
    "file.close()"
   ]
  },
  {
   "cell_type": "markdown",
   "id": "039f3af5",
   "metadata": {},
   "source": [
    "### The with Statement"
   ]
  },
  {
   "cell_type": "code",
   "execution_count": 41,
   "id": "6302ba24",
   "metadata": {},
   "outputs": [
    {
     "data": {
      "text/plain": [
       "str"
      ]
     },
     "execution_count": 41,
     "metadata": {},
     "output_type": "execute_result"
    }
   ],
   "source": [
    "with path.open(mode = \"r\",encoding = \"utf-8\") as file:\n",
    "    text = file.read()#the file object’s .read() method reads the text from the file and assigns the result to the variable text.\n",
    "type(text)"
   ]
  },
  {
   "cell_type": "code",
   "execution_count": 42,
   "id": "79a82961",
   "metadata": {},
   "outputs": [
    {
     "name": "stdout",
     "output_type": "stream",
     "text": [
      "a\n",
      "b\n"
     ]
    }
   ],
   "source": [
    "with path.open(mode = \"r\",encoding = \"utf-8\") as file:\n",
    "    for line in file.readlines():\n",
    "        print(line,end=\"\")#To print the two lines without the extra blank line, set the print() func\u0002tion’s optional end parameter to an empty string:"
   ]
  },
  {
   "cell_type": "markdown",
   "id": "b8a2bba6",
   "metadata": {},
   "source": [
    "### Writing Data To a File"
   ]
  },
  {
   "cell_type": "code",
   "execution_count": 43,
   "id": "83e06f12",
   "metadata": {},
   "outputs": [
    {
     "name": "stdout",
     "output_type": "stream",
     "text": [
      "I am WHY!\n"
     ]
    }
   ],
   "source": [
    "with path.open(mode = \"w\",encoding = \"utf-8\") as file:\n",
    "    file.write(\"I am WHY!\")\n",
    "    \n",
    "with path.open(mode = \"r\",encoding = \"utf-8\") as file:\n",
    "    print(file.read())\n"
   ]
  },
  {
   "cell_type": "code",
   "execution_count": 44,
   "id": "4534eb25",
   "metadata": {},
   "outputs": [
    {
     "name": "stdout",
     "output_type": "stream",
     "text": [
      "I am WHY!\n",
      "Hello.\n"
     ]
    }
   ],
   "source": [
    "with path.open(mode = \"a\",encoding = \"utf-8\") as file:\n",
    "    file.write(\"\\nHello.\")\n",
    "    \n",
    "with path.open(mode = \"r\",encoding = \"utf-8\") as file:\n",
    "    print(file.read())    "
   ]
  },
  {
   "cell_type": "code",
   "execution_count": 45,
   "id": "718f2bd6",
   "metadata": {},
   "outputs": [
    {
     "name": "stdout",
     "output_type": "stream",
     "text": [
      "a\n",
      "b\n",
      "\n"
     ]
    }
   ],
   "source": [
    "lines_of_texts = [\"a\\n\",\"b\\n\"]\n",
    "with path.open(mode = \"w\",encoding = \"utf-8\") as file:\n",
    "    file.writelines(lines_of_texts)#You can write multiple lines to a file at the same time using the.writelines() method\n",
    "with path.open(mode = \"r\",encoding = \"utf-8\") as file:\n",
    "    print(file.read())       "
   ]
  },
  {
   "cell_type": "markdown",
   "id": "f1407820",
   "metadata": {},
   "source": [
    "## Read and Write CSV Data"
   ]
  },
  {
   "cell_type": "code",
   "execution_count": 57,
   "id": "2721fbe7",
   "metadata": {},
   "outputs": [
    {
     "data": {
      "text/plain": [
       "'10,11,12,13'"
      ]
     },
     "execution_count": 57,
     "metadata": {},
     "output_type": "execute_result"
    }
   ],
   "source": [
    "temperature_in = [10,11,12,13]\n",
    "from pathlib import Path\n",
    "file_path = Path.home()  / \"temperature.txt\"\n",
    "with file_path.open(mode = \"w\",encoding = \"utf-8\") as file:\n",
    "    file.write(str(temperature_in[0]))# This is because values read from a text file are always read as strings.\n",
    "    for temp in temperature_in[1:]:\n",
    "        file.write(f\",{temp}\")\n",
    "\n",
    "with file_path.open(mode = \"r\",encoding = \"utf-8\") as file:\n",
    "    temperature = file.read()\n",
    "    \n",
    "temperature\n",
    "\n",
    "#The format that in which you have saved the values is called comma separated value, or CSV for short"
   ]
  },
  {
   "cell_type": "markdown",
   "id": "20985e2a",
   "metadata": {},
   "source": [
    "### CSV (comma separated value)"
   ]
  },
  {
   "cell_type": "code",
   "execution_count": 47,
   "id": "3a821a87",
   "metadata": {},
   "outputs": [
    {
     "data": {
      "text/plain": [
       "['10', '11', '12', '13']"
      ]
     },
     "execution_count": 47,
     "metadata": {},
     "output_type": "execute_result"
    }
   ],
   "source": [
    "temperature = temperature.split(\",\")\n",
    "temperature"
   ]
  },
  {
   "cell_type": "code",
   "execution_count": 48,
   "id": "5afb4531",
   "metadata": {},
   "outputs": [
    {
     "data": {
      "text/plain": [
       "[10, 11, 12, 13]"
      ]
     },
     "execution_count": 48,
     "metadata": {},
     "output_type": "execute_result"
    }
   ],
   "source": [
    "int_temperature = [int(temp) for temp in temperature]\n",
    "int_temperature"
   ]
  },
  {
   "cell_type": "markdown",
   "id": "25b258e8",
   "metadata": {},
   "source": [
    "### The csv Module"
   ]
  },
  {
   "cell_type": "code",
   "execution_count": null,
   "id": "502448d3",
   "metadata": {},
   "outputs": [],
   "source": [
    "import csv\n",
    "\n",
    "\n",
    "\n"
   ]
  }
 ],
 "metadata": {
  "kernelspec": {
   "display_name": "Python 3 (ipykernel)",
   "language": "python",
   "name": "python3"
  },
  "language_info": {
   "codemirror_mode": {
    "name": "ipython",
    "version": 3
   },
   "file_extension": ".py",
   "mimetype": "text/x-python",
   "name": "python",
   "nbconvert_exporter": "python",
   "pygments_lexer": "ipython3",
   "version": "3.12.2"
  }
 },
 "nbformat": 4,
 "nbformat_minor": 5
}
