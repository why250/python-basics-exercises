{
 "cells": [
  {
   "cell_type": "code",
   "execution_count": null,
   "id": "2750c934-9ceb-4f02-9db7-209ec72a34d6",
   "metadata": {},
   "outputs": [],
   "source": [
    "from pathlib import Path\n",
    "file_path = Path.cwd / \"pratice_files\" / \"scores.csv\"\n",
    "with file_path.open(mode = \"r\",encoding = \"utf-8\") as file:\n",
    "    data = file.read()\n",
    "    data = data.split(\",\")\n",
    "    \n",
    "\n",
    "\n",
    "\n"
   ]
  }
 ],
 "metadata": {
  "kernelspec": {
   "display_name": "Python 3 (ipykernel)",
   "language": "python",
   "name": "python3"
  },
  "language_info": {
   "codemirror_mode": {
    "name": "ipython",
    "version": 3
   },
   "file_extension": ".py",
   "mimetype": "text/x-python",
   "name": "python",
   "nbconvert_exporter": "python",
   "pygments_lexer": "ipython3",
   "version": "3.12.2"
  }
 },
 "nbformat": 4,
 "nbformat_minor": 5
}
